{
 "cells": [
  {
   "cell_type": "markdown",
   "metadata": {},
   "source": [
    "## My Jupyter Notebook on Github\n",
    "(I used Github since my Watson Account seems to be buggy :D - and it is much more convenient)"
   ]
  },
  {
   "cell_type": "markdown",
   "metadata": {},
   "source": [
    "### Anri Lombard\n",
    "- Currently: student and researcher\n",
    "- Desired: carreer as researcher, scientist, and engineer"
   ]
  },
  {
   "cell_type": "markdown",
   "metadata": {},
   "source": [
    "*I always wanted to be a neurosurgeon, but I realized I am not born in the right country, do not have the proper educational system, and will not influence many people's like I dreamt of. Computer Science dissapates all theses borders :-) (Booja!).*\n",
    "\n",
    "*Data Science takes it a step further, since we can directly influence the reality of million, and even billions, of people around the world and in space by deriving insights and assisting decision-making around the world. Data Science allows every institution to think like a scientist, improve dramatically, and avoid wandering aimlessly with good intentions.*\n",
    "\n",
    "*I am increasingly passionate to use data science as a tool to solve problems in climate change, space travel, biotechnology, gene editing, and virtual reality*"
   ]
  },
  {
   "cell_type": "markdown",
   "metadata": {},
   "source": [
    "### Cell 5 is supposed to show you the truth"
   ]
  },
  {
   "cell_type": "code",
   "execution_count": 2,
   "metadata": {},
   "outputs": [
    {
     "name": "stdout",
     "output_type": "stream",
     "text": [
      "You\n",
      "Are\n",
      "Awesome\n"
     ]
    }
   ],
   "source": [
    "truth = [\"You\", \"Are\", \"Awesome\"]\n",
    "\n",
    "for word in truth:\n",
    "    print(word)"
   ]
  },
  {
   "cell_type": "markdown",
   "metadata": {},
   "source": [
    "Let's give it a go:\n",
    "- This is a\n",
    "- buletted list,\n",
    "1. and a\n",
    "2. numberred list,\n",
    "and a horizontal line\n",
    "<hr style=\"border:2px solid gray\"> </hr>\n",
    "!!!"
   ]
  },
  {
   "cell_type": "code",
   "execution_count": 17,
   "metadata": {},
   "outputs": [
    {
     "data": {
      "text/plain": [
       "array([11, 11, 11, 11, 11])"
      ]
     },
     "execution_count": 17,
     "metadata": {},
     "output_type": "execute_result"
    }
   ],
   "source": [
    "import numpy as np\n",
    "\n",
    "a=np.array([1,1,1,1,1])\n",
    "a+10"
   ]
  },
  {
   "cell_type": "code",
   "execution_count": null,
   "metadata": {},
   "outputs": [],
   "source": []
  }
 ],
 "metadata": {
  "kernelspec": {
   "display_name": "Python 3",
   "language": "python",
   "name": "python3"
  },
  "language_info": {
   "codemirror_mode": {
    "name": "ipython",
    "version": 3
   },
   "file_extension": ".py",
   "mimetype": "text/x-python",
   "name": "python",
   "nbconvert_exporter": "python",
   "pygments_lexer": "ipython3",
   "version": "3.8.5"
  }
 },
 "nbformat": 4,
 "nbformat_minor": 4
}
